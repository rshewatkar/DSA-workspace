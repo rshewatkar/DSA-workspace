{
 "cells": [
  {
   "cell_type": "markdown",
   "id": "c50b2f01",
   "metadata": {},
   "source": [
    "## 🐍 Python Setup & Basics\n",
    "\n",
    "### 1. Install Python & IDE\n",
    "\n",
    "* Python → Programming language we’ll use for ML.\n",
    "\n",
    "* IDE (Integrated Development Environment) → Tools to write/run code.\n",
    "  Examples:\n",
    "\n",
    "      * VS Code → Lightweight, customizable (popular in ML).\n",
    "\n",
    "      * Jupyter Notebook → Interactive coding, great for ML experiments.\n",
    "\n",
    "      * PyCharm → Full-fledged IDE.\n",
    "\n",
    "👉 After installing Python, you can check version:"
   ]
  },
  {
   "cell_type": "code",
   "execution_count": 8,
   "id": "3e93ae9e",
   "metadata": {},
   "outputs": [
    {
     "name": "stdout",
     "output_type": "stream",
     "text": [
      "3.13.5 | packaged by Anaconda, Inc. | (main, Jun 12 2025, 16:37:03) [MSC v.1929 64 bit (AMD64)]\n"
     ]
    }
   ],
   "source": [
    "import sys\n",
    "print(sys.version)"
   ]
  },
  {
   "cell_type": "markdown",
   "id": "4de62ca9",
   "metadata": {},
   "source": [
    "### 2. Basic Syntax\n",
    "\n",
    "* Python code is indentation-based (no {} like C/Java).\n",
    "\n",
    "* Indentation is spaces/tabs → defines blocks of code.\n",
    "\n",
    "* Comments start with #."
   ]
  },
  {
   "cell_type": "code",
   "execution_count": 9,
   "id": "098cd05b",
   "metadata": {},
   "outputs": [
    {
     "name": "stdout",
     "output_type": "stream",
     "text": [
      "Hello, Machine Learning world!\n"
     ]
    }
   ],
   "source": [
    "# print a message\n",
    "print(\"Hello, Machine Learning world!\")"
   ]
  },
  {
   "cell_type": "code",
   "execution_count": 10,
   "id": "de37ae59",
   "metadata": {},
   "outputs": [
    {
     "name": "stdout",
     "output_type": "stream",
     "text": [
      "5 is greater than 2\n"
     ]
    }
   ],
   "source": [
    "if 5 > 2 :\n",
    "    print(\"5 is greater than 2\")"
   ]
  },
  {
   "cell_type": "markdown",
   "id": "c55b9ee6",
   "metadata": {},
   "source": [
    "### 3. Variables\n",
    "\n",
    "* Think of variables as containers that hold data.\n",
    "\n",
    "* No need to declare type explicitly."
   ]
  },
  {
   "cell_type": "code",
   "execution_count": 11,
   "id": "6d61e4a9",
   "metadata": {},
   "outputs": [
    {
     "name": "stdout",
     "output_type": "stream",
     "text": [
      "5 3.5 Rahul True\n"
     ]
    }
   ],
   "source": [
    "x = 5 # integer variable\n",
    "y = 3.5 # float variable\n",
    "name = \"Rahul\" # string variable\n",
    "is_ml = True # boolean variable\n",
    "\n",
    "print(x,y,name,is_ml)"
   ]
  },
  {
   "cell_type": "markdown",
   "id": "abe9a9b6",
   "metadata": {},
   "source": [
    "### 4. Data Types\n",
    "\n",
    "* Python has built-in data types (important for ML).\n",
    "\n",
    "| Type  | Example       | ML use case            |\n",
    "| ----- | ------------- | ---------------------- |\n",
    "| int   | `10`          | Dataset size, counts   |\n",
    "| float | `3.14`        | Probabilities, weights |\n",
    "| str   | `\"hello\"`     | Labels, text data      |\n",
    "| bool  | `True/False`  | Binary classification  |\n",
    "| list  | `[1, 2, 3]`   | Store features         |\n",
    "| tuple | `(1, 2, 3)`   | Immutable data         |\n",
    "| dict  | `{\"age\": 30}` | Key-value (JSON style) |\n",
    "| set   | `{1, 2, 3}`   | Unique values          |\n"
   ]
  },
  {
   "cell_type": "code",
   "execution_count": 12,
   "id": "fcc6a6c1",
   "metadata": {},
   "outputs": [
    {
     "name": "stdout",
     "output_type": "stream",
     "text": [
      "<class 'list'> <class 'dict'> <class 'set'>\n"
     ]
    }
   ],
   "source": [
    "# Different Data Types\n",
    "features = [5.1,3.5,1.4,0.2] # list\n",
    "iris = {\"species\": \"Iris-setosa\", \"sepal_length\": 5.1, \"sepal_width\": 3.5} # dictionary\n",
    "unique_labels = {\"cat\", \"Dog\", \"fish\"} # set\n",
    "\n",
    "print(type(features), type(iris), type(unique_labels))"
   ]
  },
  {
   "cell_type": "markdown",
   "id": "ab55a824",
   "metadata": {},
   "source": [
    "### 5. Type Casting\n",
    "\n",
    "* Converting data from one type to another.\n",
    "\n",
    "* Useful in ML when data comes in mixed formats (e.g., CSV has numbers stored as strings)."
   ]
  },
  {
   "cell_type": "code",
   "execution_count": 13,
   "id": "a78eca1a",
   "metadata": {},
   "outputs": [
    {
     "name": "stdout",
     "output_type": "stream",
     "text": [
      "100 <class 'str'>\n",
      "100 <class 'int'>\n",
      "100.0 <class 'float'>\n"
     ]
    }
   ],
   "source": [
    "x = \"100\"     # string\n",
    "y = int(x)    # cast to int\n",
    "z = float(x)  # cast to float\n",
    "\n",
    "print(x, type(x))\n",
    "print(y, type(y))\n",
    "print(z, type(z))\n"
   ]
  },
  {
   "cell_type": "markdown",
   "id": "5108b33f",
   "metadata": {},
   "source": [
    "Q1: Name the built-in data types in Python.\n",
    "\n",
    "✅ Answer: Python has several built-in data types, mainly grouped as:\n",
    "\n",
    "1. Text Type → str\n",
    "\n",
    "2. Numeric Types → int, float, complex\n",
    "\n",
    "3. Sequence Types → list, tuple, range\n",
    "\n",
    "4. Mapping Type → dict\n",
    "\n",
    "5. Set Types → set, frozenset\n",
    "\n",
    "6. Boolean Type → bool\n",
    "\n",
    "7. Binary Types → bytes, bytearray, memoryview\n",
    "\n",
    "8. None Type → NoneType"
   ]
  },
  {
   "cell_type": "markdown",
   "id": "49a70cac",
   "metadata": {},
   "source": [
    "Q2: Difference between list, tuple, and set.\n",
    "\n",
    "✅ Answer:\n",
    "\n",
    "| Feature        | **List**                  | **Tuple**                   | **Set**                       |\n",
    "| -------------- | ------------------------- | --------------------------- | ----------------------------- |\n",
    "| **Syntax**     | `[]` → `[1, 2, 3]`        | `()` → `(1, 2, 3)`          | `{}` → `{1, 2, 3}`            |\n",
    "| **Order**      | Ordered                   | Ordered                     | Unordered (no index)          |\n",
    "| **Duplicates** | Allowed                   | Allowed                     | Not allowed (unique elements) |\n",
    "| **Mutable?**   | ✅ Yes (can change)        | ❌ No (cannot change)        | ✅ Yes (but only unique items) |\n",
    "| **Use Case**   | When you need flexibility | When data should not change | When uniqueness is required   |\n"
   ]
  },
  {
   "cell_type": "markdown",
   "id": "295eb7d4",
   "metadata": {},
   "source": [
    "Q3: Which data type is mutable and which is immutable?\n",
    "\n",
    "✅ Answer:\n",
    "\n",
    "✅ Mutable (can change after creation):\n",
    "\n",
    "list, dict, set, bytearray\n",
    "\n",
    "❌ Immutable (cannot change after creation):\n",
    "\n",
    "int, float, complex, str, tuple, frozenset, bytes, bool"
   ]
  },
  {
   "cell_type": "markdown",
   "id": "608e397c",
   "metadata": {},
   "source": [
    "## 📝 Practice Questions"
   ]
  },
  {
   "cell_type": "code",
   "execution_count": 15,
   "id": "738bb35e",
   "metadata": {},
   "outputs": [
    {
     "name": "stdout",
     "output_type": "stream",
     "text": [
      "Hello, Machine Learning!\n"
     ]
    }
   ],
   "source": [
    "# Q1 - Write a Python program that prints: Hello, Machine Learning!\n",
    "\n",
    "print(\"Hello, Machine Learning!\")"
   ]
  },
  {
   "cell_type": "code",
   "execution_count": 16,
   "id": "3a0b423a",
   "metadata": {},
   "outputs": [
    {
     "name": "stdout",
     "output_type": "stream",
     "text": [
      "My name is Rahul and I am 30 years old.\n"
     ]
    }
   ],
   "source": [
    "# Q2 - Write a program that prints your name and age in one line using f-string.\n",
    "name = \"Rahul\"\n",
    "age = 30\n",
    "print(f\"My name is {name} and I am {age} years old.\")"
   ]
  },
  {
   "cell_type": "code",
   "execution_count": 19,
   "id": "5142b5d6",
   "metadata": {},
   "outputs": [
    {
     "name": "stdout",
     "output_type": "stream",
     "text": [
      "Name:Rahul, Age:30, Is student:True\n"
     ]
    }
   ],
   "source": [
    "# Q3 Create variables:\n",
    "\"\"\"\n",
    "name = \"Rahul\"\n",
    "age = 30\n",
    "is_student = True\n",
    "Print all variables in a single line.\"\"\"\n",
    "\n",
    "name = \"Rahul\"\n",
    "age = 30\n",
    "is_student = True\n",
    "print(f\"Name:{name}, Age:{age}, Is student:{is_student}\")\n"
   ]
  },
  {
   "cell_type": "code",
   "execution_count": 22,
   "id": "6210d4bd",
   "metadata": {},
   "outputs": [
    {
     "name": "stdout",
     "output_type": "stream",
     "text": [
      "value swaping: x=10, y=5\n",
      "After swapping: x=10, y=5\n"
     ]
    }
   ],
   "source": [
    "# Q4 - Swap the values of two variables x = 5 and y = 10 without using a third variable.\n",
    "\n",
    "x = 5\n",
    "y = 10\n",
    "print(f\"value swaping: x={y}, y={x}\")\n",
    "\n",
    "x, y  = y, x # Pythonic way to swap values\n",
    "print(f\"After swapping: x={x}, y={y}\")"
   ]
  },
  {
   "cell_type": "code",
   "execution_count": 30,
   "id": "80df32f2",
   "metadata": {},
   "outputs": [
    {
     "name": "stdout",
     "output_type": "stream",
     "text": [
      "The second fruit is: banana\n"
     ]
    }
   ],
   "source": [
    "# Q5 Create a list of 5 fruits and print the second fruit.\n",
    "\n",
    "fruits = [\"apple\", \"banana\", \"cherry\", \"date\", \"elderberry\"]\n",
    "print(\"The second fruit is:\", fruits[1])  # Index 1 is the second element\n"
   ]
  },
  {
   "cell_type": "code",
   "execution_count": 31,
   "id": "b062bb13",
   "metadata": {},
   "outputs": [
    {
     "name": "stdout",
     "output_type": "stream",
     "text": [
      "Course: Machine Learning\n"
     ]
    }
   ],
   "source": [
    "# Q6 - Create a dictionary with keys: \"name\", \"course\", \"duration\" and print the value of \"course\".\n",
    "student_info = {\n",
    "    \"name\": \"Rahul\",\n",
    "    \"course\": \"Machine Learning\",\n",
    "    \"duration\": \"3 months\"\n",
    "}\n",
    "\n",
    "print(\"Course:\", student_info[\"course\"])"
   ]
  },
  {
   "cell_type": "code",
   "execution_count": 36,
   "id": "29879dee",
   "metadata": {},
   "outputs": [
    {
     "ename": "TypeError",
     "evalue": "'tuple' object does not support item assignment",
     "output_type": "error",
     "traceback": [
      "\u001b[31m---------------------------------------------------------------------------\u001b[39m",
      "\u001b[31mTypeError\u001b[39m                                 Traceback (most recent call last)",
      "\u001b[36mCell\u001b[39m\u001b[36m \u001b[39m\u001b[32mIn[36]\u001b[39m\u001b[32m, line 4\u001b[39m\n\u001b[32m      1\u001b[39m \u001b[38;5;66;03m# Q7 - Store 10, 20, 30 in a tuple and try to change the first value. What happens? (Explain in a comment).\u001b[39;00m\n\u001b[32m      3\u001b[39m my_tuple = (\u001b[32m10\u001b[39m, \u001b[32m20\u001b[39m, \u001b[32m30\u001b[39m)\n\u001b[32m----> \u001b[39m\u001b[32m4\u001b[39m \u001b[43mmy_tuple\u001b[49m\u001b[43m[\u001b[49m\u001b[32;43m0\u001b[39;49m\u001b[43m]\u001b[49m=\u001b[32m100\u001b[39m\n\u001b[32m      5\u001b[39m \u001b[38;5;66;03m# This will raise a TypeError because tuples are immutable.\u001b[39;00m\n\u001b[32m      6\u001b[39m \u001b[38;5;66;03m# Uncommenting the line above will result in an error: 'tuple' object does not support item assignment\u001b[39;00m\n",
      "\u001b[31mTypeError\u001b[39m: 'tuple' object does not support item assignment"
     ]
    }
   ],
   "source": [
    "# Q7 - Store 10, 20, 30 in a tuple and try to change the first value. What happens? (Explain in a comment).\n",
    "\n",
    "my_tuple = (10, 20, 30)\n",
    "my_tuple[0]=100\n",
    "# This will raise a TypeError because tuples are immutable.\n",
    "# Uncommenting the line above will result in an error: 'tuple' object does not support item assignment\n"
   ]
  },
  {
   "cell_type": "code",
   "execution_count": 47,
   "id": "6e721948",
   "metadata": {},
   "outputs": [
    {
     "name": "stdout",
     "output_type": "stream",
     "text": [
      "Value of b: 150\n"
     ]
    }
   ],
   "source": [
    "# Q8 - Convert the string \"100\" into an integer and add 50.\n",
    "a = \"100\"\n",
    "b = int(a) + 50  # 50 added to the integer value of a\n",
    "print(\"Value of b:\", b)"
   ]
  },
  {
   "cell_type": "code",
   "execution_count": 46,
   "id": "b9a31d92",
   "metadata": {},
   "outputs": [
    {
     "name": "stdout",
     "output_type": "stream",
     "text": [
      "Value of b: 9\n"
     ]
    }
   ],
   "source": [
    "# Q9 - Convert the float 9.99 into an integer. What is the result? \n",
    "a = 9.99\n",
    "b = int(a)\n",
    "print(\"Value of b:\", b)  "
   ]
  },
  {
   "cell_type": "code",
   "execution_count": 50,
   "id": "5f0cae43",
   "metadata": {},
   "outputs": [
    {
     "name": "stdout",
     "output_type": "stream",
     "text": [
      "Concatenated value: 123 ML\n"
     ]
    }
   ],
   "source": [
    "# Q10 - Convert the number 123 into a string and concatenate with \" ML\".\n",
    "\n",
    "a = str(123)\n",
    "b = a + \" ML\"\n",
    "print(\"Concatenated value:\", b)"
   ]
  },
  {
   "cell_type": "code",
   "execution_count": 5,
   "id": "a4a4ed80",
   "metadata": {},
   "outputs": [
    {
     "name": "stdout",
     "output_type": "stream",
     "text": [
      "Hell, Rahul, in 5 years you will be 35  years old.\n"
     ]
    }
   ],
   "source": [
    "# Q11 - Write a program where: The user enters their name and age. Convert age into an integer.\n",
    "\n",
    "name = input(\"Enter your name: \")\n",
    "age = input(\"Enter your age: \")\n",
    "age = int(age)  # Convert age to integer\n",
    "print(f\"Hell, {name}, in 5 years you will be {age +5}  years old.\")\n"
   ]
  }
 ],
 "metadata": {
  "kernelspec": {
   "display_name": "base",
   "language": "python",
   "name": "python3"
  },
  "language_info": {
   "codemirror_mode": {
    "name": "ipython",
    "version": 3
   },
   "file_extension": ".py",
   "mimetype": "text/x-python",
   "name": "python",
   "nbconvert_exporter": "python",
   "pygments_lexer": "ipython3",
   "version": "3.13.5"
  }
 },
 "nbformat": 4,
 "nbformat_minor": 5
}
