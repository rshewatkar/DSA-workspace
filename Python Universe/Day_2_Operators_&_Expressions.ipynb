{
 "cells": [
  {
   "cell_type": "markdown",
   "id": "8219b064",
   "metadata": {},
   "source": [
    "## 🎯 Python Operators & Expressions\n",
    "\n",
    "👉 Operators are symbols that perform operations on values/variables.\n",
    "👉 Expressions are combinations of values & operators that Python evaluates.\n",
    "\n",
    "We’ll cover:\n",
    "\n",
    "1. Arithmetic\n",
    "\n",
    "2. Comparison\n",
    "\n",
    "3. Logical\n",
    "\n",
    "4. Assignment\n",
    "\n",
    "5. Bitwise\n",
    "\n",
    "6. Precedence (priority order)\n",
    "\n",
    "### 1️⃣ Arithmetic Operators\n",
    "\n",
    "Used for basic math.\n",
    "\n",
    "| Operator | Meaning                          | Example       |\n",
    "| -------- | -------------------------------- | ------------- |\n",
    "| `+`      | Addition                         | `5 + 3 = 8`   |\n",
    "| `-`      | Subtraction                      | `10 - 4 = 6`  |\n",
    "| `*`      | Multiplication                   | `6 * 3 = 18`  |\n",
    "| `/`      | Division                         | `8 / 2 = 4.0` |\n",
    "| `//`     | Floor Division (ignores decimal) | `7 // 2 = 3`  |\n",
    "| `%`      | Modulus (remainder)              | `10 % 3 = 1`  |\n",
    "| `**`     | Power                            | `2 ** 3 = 8`  |\n"
   ]
  },
  {
   "cell_type": "code",
   "execution_count": 1,
   "id": "245b218d",
   "metadata": {},
   "outputs": [
    {
     "name": "stdout",
     "output_type": "stream",
     "text": [
      "13\n",
      "3\n",
      "1\n",
      "1000\n"
     ]
    }
   ],
   "source": [
    "a, b = 10, 3\n",
    "print(a + b)   # 13\n",
    "print(a // b)  # 3\n",
    "print(a % b)   # 1\n",
    "print(a ** b)  # 1000\n"
   ]
  },
  {
   "cell_type": "markdown",
   "id": "1add78b5",
   "metadata": {},
   "source": [
    "### 2️⃣ Comparison Operators\n",
    "\n",
    "Used to compare values (result → True/False).\n",
    "\n",
    "| Operator | Example  | Result |\n",
    "| -------- | -------- | ------ |\n",
    "| `==`     | `5 == 5` | True   |\n",
    "| `!=`     | `5 != 3` | True   |\n",
    "| `>`      | `7 > 3`  | True   |\n",
    "| `<`      | `2 < 10` | True   |\n",
    "| `>=`     | `7 >= 7` | True   |\n",
    "| `<=`     | `4 <= 6` | True   |\n"
   ]
  },
  {
   "cell_type": "code",
   "execution_count": 4,
   "id": "bfc28352",
   "metadata": {},
   "outputs": [
    {
     "name": "stdout",
     "output_type": "stream",
     "text": [
      "False\n",
      "False\n",
      "True\n"
     ]
    }
   ],
   "source": [
    "x,y = 7, 8\n",
    "print(x > y)\n",
    "print(x == y)\n",
    "print(x < y)\n"
   ]
  },
  {
   "cell_type": "markdown",
   "id": "8c2d6169",
   "metadata": {},
   "source": [
    "### 3️⃣ Logical Operators\n",
    "\n",
    "Used for decision-making.\n",
    "\n",
    "| Operator | Meaning           | Example                       |\n",
    "| -------- | ----------------- | ----------------------------- |\n",
    "| `and`    | Both must be true | `(5 > 3) and (10 > 2)` → True |\n",
    "| `or`     | At least one true | `(5 > 3) or (10 < 2)` → True  |\n",
    "| `not`    | Negates value     | `not (5 > 3)` → False         |\n"
   ]
  },
  {
   "cell_type": "code",
   "execution_count": 11,
   "id": "592fa5b2",
   "metadata": {},
   "outputs": [
    {
     "name": "stdout",
     "output_type": "stream",
     "text": [
      "True\n",
      "True\n"
     ]
    }
   ],
   "source": [
    "print (x!= y and x < y)\n",
    "print(x < y  or y ==8)"
   ]
  },
  {
   "cell_type": "markdown",
   "id": "07fbaa00",
   "metadata": {},
   "source": [
    "### 4️⃣ Assignment Operators\n",
    "\n",
    "Used to assign values.\n",
    "\n",
    "| Operator | Example  | Same As     |\n",
    "| -------- | -------- | ----------- |\n",
    "| `=`      | `x = 5`  | Assign      |\n",
    "| `+=`     | `x += 3` | `x = x + 3` |\n",
    "| `-=`     | `x -= 2` | `x = x - 2` |\n",
    "| `*=`     | `x *= 4` | `x = x * 4` |\n",
    "| `/=`     | `x /= 2` | `x = x / 2` |\n",
    "| `%=`     | `x %= 3` | `x = x % 3` |\n"
   ]
  },
  {
   "cell_type": "code",
   "execution_count": 18,
   "id": "aca9c4cf",
   "metadata": {},
   "outputs": [
    {
     "name": "stdout",
     "output_type": "stream",
     "text": [
      "8\n"
     ]
    }
   ],
   "source": [
    "x = 3\n",
    "x += 5\n",
    "print(x)"
   ]
  },
  {
   "cell_type": "markdown",
   "id": "86f3ef76",
   "metadata": {},
   "source": [
    "### 5️⃣ Bitwise Operators\n",
    "\n",
    "Work on binary (0s & 1s).\n",
    "\n",
    "| Operator | Meaning         | Example       |     |         |\n",
    "| -------- | --------------- | ------------- | --- | ------- |\n",
    "| `&`      | AND             | `5 & 3 → 1`   |     |         |\n",
    "| \\`       | \\`              | OR            | \\`5 | 3 → 7\\` |\n",
    "| `^`      | XOR             | `5 ^ 3 → 6`   |     |         |\n",
    "| `~`      | NOT (flip bits) | `~5 → -6`     |     |         |\n",
    "| `<<`     | Left shift      | `5 << 1 → 10` |     |         |\n",
    "| `>>`     | Right shift     | `5 >> 1 → 2`  |     |         |\n"
   ]
  },
  {
   "cell_type": "code",
   "execution_count": 19,
   "id": "6d6c9e3d",
   "metadata": {},
   "outputs": [
    {
     "name": "stdout",
     "output_type": "stream",
     "text": [
      "1\n",
      "7\n",
      "6\n",
      "10\n"
     ]
    }
   ],
   "source": [
    "a, b = 5, 3   # 5 = 101, 3 = 011 (binary)\n",
    "print(a & b)  # 1\n",
    "print(a | b)  # 7\n",
    "print(a ^ b)  # 6\n",
    "print(a << 1) # 10\n"
   ]
  },
  {
   "cell_type": "markdown",
   "id": "d2b25aee",
   "metadata": {},
   "source": [
    "### 6️⃣ Operator Precedence (Priority Order)\n",
    "\n",
    "When multiple operators are used, Python follows precedence.\n",
    "\n",
    "👉 Order (highest → lowest):\n",
    "\n",
    "1. ** (power)\n",
    "\n",
    "2. *, /, //, %\n",
    "\n",
    "3. +, -\n",
    "\n",
    "4. <, >, ==, !=\n",
    "\n",
    "5. not\n",
    "\n",
    "6. and\n",
    "\n",
    "7. or"
   ]
  },
  {
   "cell_type": "code",
   "execution_count": 20,
   "id": "f3dfe32f",
   "metadata": {},
   "outputs": [
    {
     "name": "stdout",
     "output_type": "stream",
     "text": [
      "14\n"
     ]
    }
   ],
   "source": [
    "result = 2 + 3 * 2 ** 2\n",
    "# Step 1: 2 ** 2 = 4\n",
    "# Step 2: 3 * 4 = 12\n",
    "# Step 3: 2 + 12 = 14\n",
    "print(result)  # 14\n"
   ]
  },
  {
   "cell_type": "code",
   "execution_count": 30,
   "id": "79abd995",
   "metadata": {},
   "outputs": [
    {
     "name": "stdout",
     "output_type": "stream",
     "text": [
      "8\n",
      "-2\n",
      "15\n",
      "0.6\n",
      "243\n"
     ]
    }
   ],
   "source": [
    "# Take two numbers as input and print their sum, difference, product, division.\n",
    "a , b = 3, 5\n",
    "print(a + b)\n",
    "print(a - b)\n",
    "print(a * b)\n",
    "print(a / b)\n",
    "print(a ** b)"
   ]
  },
  {
   "cell_type": "code",
   "execution_count": 41,
   "id": "8ba96e7e",
   "metadata": {},
   "outputs": [
    {
     "name": "stdout",
     "output_type": "stream",
     "text": [
      "number is even\n",
      "number is odd\n"
     ]
    }
   ],
   "source": [
    "# Write a program to check if a number is even or odd using %.\n",
    "\n",
    "def num(n):\n",
    "    if n % 2 == 0:\n",
    "        return \"number is even\"\n",
    "    return \"number is odd\"\n",
    "\n",
    "print(num(22222))\n",
    "print(num(333))"
   ]
  },
  {
   "cell_type": "code",
   "execution_count": 46,
   "id": "dc279032",
   "metadata": {},
   "outputs": [
    {
     "name": "stdout",
     "output_type": "stream",
     "text": [
      "invalid age\n",
      "valid age\n"
     ]
    }
   ],
   "source": [
    "def age(n):\n",
    "    if n >=18 and n <=60:\n",
    "        return \"valid age\"\n",
    "    return \"invalid age\"\n",
    "\n",
    "print(age(17))\n",
    "print(age(50))"
   ]
  },
  {
   "cell_type": "code",
   "execution_count": null,
   "id": "f978885f",
   "metadata": {},
   "outputs": [
    {
     "name": "stdout",
     "output_type": "stream",
     "text": [
      "invalid age\n",
      "valid age\n",
      "valid age\n",
      "valid age\n",
      "invalid age\n"
     ]
    }
   ],
   "source": [
    "Check if a user’s age is between 18 and 60 using comparison and logical operators.\n",
    "\n",
    "n =[10,18,20, 60 ,70] \n",
    "for age in n:\n",
    "    if age >= 18 and age <= 60:\n",
    "        print(\"valid age\")\n",
    "    else:\n",
    "        print(\"invalid age\")    \n",
    "    "
   ]
  },
  {
   "cell_type": "code",
   "execution_count": 64,
   "id": "70fd83ed",
   "metadata": {},
   "outputs": [
    {
     "name": "stdout",
     "output_type": "stream",
     "text": [
      "20\n",
      "10\n"
     ]
    }
   ],
   "source": [
    "# Swap two numbers using assignment operators\n",
    "\n",
    "x = 10\n",
    "y = 20\n",
    "x , y = y, x\n",
    "print(x)\n",
    "print(y)"
   ]
  },
  {
   "cell_type": "code",
   "execution_count": null,
   "id": "3cbac5c5",
   "metadata": {},
   "outputs": [],
   "source": []
  }
 ],
 "metadata": {
  "kernelspec": {
   "display_name": "base",
   "language": "python",
   "name": "python3"
  },
  "language_info": {
   "codemirror_mode": {
    "name": "ipython",
    "version": 3
   },
   "file_extension": ".py",
   "mimetype": "text/x-python",
   "name": "python",
   "nbconvert_exporter": "python",
   "pygments_lexer": "ipython3",
   "version": "3.13.5"
  }
 },
 "nbformat": 4,
 "nbformat_minor": 5
}
