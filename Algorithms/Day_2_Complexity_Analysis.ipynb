{
 "cells": [
  {
   "cell_type": "markdown",
   "id": "89d59ddf",
   "metadata": {},
   "source": [
    "# 📌 1. What is Complexity Analysis?\n",
    "\n",
    "When we write code, we care about two things:\n",
    "\n",
    "Time Complexity — how fast it runs.\n",
    "\n",
    "Space Complexity — how much memory it uses.\n",
    "\n",
    "Instead of measuring in seconds (which depends on hardware), we use Big O notation to express how performance scales as input size (n) grows.\n"
   ]
  },
  {
   "cell_type": "markdown",
   "id": "3b0ada72",
   "metadata": {},
   "source": [
    "### 📌 2. Big O, Big Ω, Big Θ — The Trio\n",
    "\n",
    "| Notation          | Meaning                                 | Example                                         |\n",
    "| ----------------- | --------------------------------------- | ----------------------------------------------- |\n",
    "| **Big O** (O)     | *Upper bound* — worst-case performance. | Sorting with QuickSort worst case:  **O(n²)**    |\n",
    "| **Big Omega** (Ω) | *Lower bound* — best-case performance.  | Linear search best case (found first):  **Ω(1)** |\n",
    "| **Big Theta** (Θ) | *Tight bound* — average case.           | MergeSort:  **Θ(n log n)**  always                |\n"
   ]
  },
  {
   "cell_type": "markdown",
   "id": "abebe5b3",
   "metadata": {},
   "source": [
    "### 💡 Analogy\n",
    "Imagine you’re driving from Mumbai to Pune:\n",
    "\n",
    "Big O : “It will take at most 4 hours.” (worst-case — heavy traffic)\n",
    "\n",
    "Big Ω : “It will take at least 2 hours.” (best-case — no traffic)\n",
    "\n",
    "Big Θ : “On average, it takes around 3 hours.” (typical case)"
   ]
  },
  {
   "cell_type": "markdown",
   "id": "09de32ad",
   "metadata": {},
   "source": [
    "### 📌 3. Common Time Complexities\n",
    "From fastest to slowest:\n",
    "\n",
    "O(1) → Constant time (no matter how big n is)\n",
    "\n",
    "O(log n) → Logarithmic (binary search)\n",
    "\n",
    "O(n) → Linear (simple loop)\n",
    "\n",
    "O(n log n) → Log-linear (merge sort)\n",
    "\n",
    "O(n²) → Quadratic (nested loops)\n",
    "\n",
    "O(2ⁿ) → Exponential (brute-force recursion)\n",
    "\n",
    "O(n!) → Factorial (permutations)"
   ]
  },
  {
   "cell_type": "markdown",
   "id": "316ddb09",
   "metadata": {},
   "source": [
    "### 📌 4. Beginner-Friendly Examples\n",
    " O(1) – Constant Time"
   ]
  },
  {
   "cell_type": "code",
   "execution_count": 1,
   "id": "80d9cc5e",
   "metadata": {},
   "outputs": [
    {
     "name": "stdout",
     "output_type": "stream",
     "text": [
      "10\n"
     ]
    }
   ],
   "source": [
    "def get_first_element(arr):\n",
    "    return arr[0]  # Always 1 step, no matter the array size\n",
    "\n",
    "print(get_first_element([10, 20, 30]))\n"
   ]
  },
  {
   "cell_type": "markdown",
   "id": "31da67b5",
   "metadata": {},
   "source": [
    "  O(n) – Linear Time "
   ]
  },
  {
   "cell_type": "code",
   "execution_count": 4,
   "id": "16b8bfb7",
   "metadata": {},
   "outputs": [
    {
     "name": "stdout",
     "output_type": "stream",
     "text": [
      "1\n",
      "2\n",
      "3\n",
      "4\n"
     ]
    }
   ],
   "source": [
    "def print_all(arr):\n",
    "    for item in arr:\n",
    "        print(item)  # Executes n times\n",
    "\n",
    "print_all([1, 2, 3, 4])\n"
   ]
  },
  {
   "cell_type": "markdown",
   "id": "e2fd502a",
   "metadata": {},
   "source": [
    "O(n²) – Quadratic Time\n",
    "\n",
    "\n",
    "\n"
   ]
  },
  {
   "cell_type": "code",
   "execution_count": 5,
   "id": "921e0ccc",
   "metadata": {},
   "outputs": [
    {
     "name": "stdout",
     "output_type": "stream",
     "text": [
      "1 1\n",
      "1 2\n",
      "1 3\n",
      "2 1\n",
      "2 2\n",
      "2 3\n",
      "3 1\n",
      "3 2\n",
      "3 3\n"
     ]
    }
   ],
   "source": [
    "def print_pairs(arr):\n",
    "    for i in arr:\n",
    "        for j in arr:\n",
    "            print(i, j)  # Executes n*n times\n",
    "\n",
    "print_pairs([1, 2, 3])\n"
   ]
  },
  {
   "cell_type": "markdown",
   "id": "7e6a3d23",
   "metadata": {},
   "source": [
    "O(log n) – Logarithmic Time\n",
    "\n",
    "\n",
    "\n"
   ]
  },
  {
   "cell_type": "code",
   "execution_count": 6,
   "id": "f81e64b8",
   "metadata": {},
   "outputs": [
    {
     "name": "stdout",
     "output_type": "stream",
     "text": [
      "True\n"
     ]
    }
   ],
   "source": [
    "def binary_search(arr, target):\n",
    "    low, high = 0, len(arr) - 1\n",
    "    while low <= high:\n",
    "        mid = (low + high) // 2\n",
    "        if arr[mid] == target:\n",
    "            return True\n",
    "        elif arr[mid] < target:\n",
    "            low = mid + 1\n",
    "        else:\n",
    "            high = mid - 1\n",
    "    return False\n",
    "\n",
    "print(binary_search([1, 2, 3, 4, 5], 4))\n"
   ]
  },
  {
   "cell_type": "markdown",
   "id": "a4819499",
   "metadata": {},
   "source": [
    " O(2ⁿ) – Exponential Time\n",
    "\n",
    "\n",
    "\n"
   ]
  },
  {
   "cell_type": "code",
   "execution_count": 7,
   "id": "0ecd0aed",
   "metadata": {},
   "outputs": [
    {
     "name": "stdout",
     "output_type": "stream",
     "text": [
      "5\n"
     ]
    }
   ],
   "source": [
    "def fibonacci(n):\n",
    "    if n <= 1:\n",
    "        return n\n",
    "    return fibonacci(n - 1) + fibonacci(n - 2)\n",
    "\n",
    "print(fibonacci(5))  # Slow for big n\n"
   ]
  },
  {
   "cell_type": "markdown",
   "id": "20195cb8",
   "metadata": {},
   "source": [
    "### 📌 5. Space Complexity Example\n",
    "\n",
    "\n",
    "\n"
   ]
  },
  {
   "cell_type": "code",
   "execution_count": 8,
   "id": "c9f54717",
   "metadata": {},
   "outputs": [
    {
     "name": "stdout",
     "output_type": "stream",
     "text": [
      "10\n"
     ]
    }
   ],
   "source": [
    "def sum_list(arr):\n",
    "    total = 0  # O(1) space\n",
    "    for num in arr:  # No extra space based on n\n",
    "        total += num\n",
    "    return total\n",
    "\n",
    "print(sum_list([1, 2, 3, 4]))\n"
   ]
  },
  {
   "cell_type": "markdown",
   "id": "b7c0705a",
   "metadata": {},
   "source": [
    "### 📌 6. Practice Problem Links \n",
    "Here are 5 beginner-friendly problems to understand complexity:\n"
   ]
  },
  {
   "cell_type": "markdown",
   "id": "941fb821",
   "metadata": {},
   "source": [
    "https://www.geeksforgeeks.org/dsa/practice-questions-time-complexity-analysis/"
   ]
  },
  {
   "cell_type": "markdown",
   "id": "51427736",
   "metadata": {},
   "source": []
  }
 ],
 "metadata": {
  "kernelspec": {
   "display_name": "base",
   "language": "python",
   "name": "python3"
  },
  "language_info": {
   "codemirror_mode": {
    "name": "ipython",
    "version": 3
   },
   "file_extension": ".py",
   "mimetype": "text/x-python",
   "name": "python",
   "nbconvert_exporter": "python",
   "pygments_lexer": "ipython3",
   "version": "3.13.5"
  }
 },
 "nbformat": 4,
 "nbformat_minor": 5
}
