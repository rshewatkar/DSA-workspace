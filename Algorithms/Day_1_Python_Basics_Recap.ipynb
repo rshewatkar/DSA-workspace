{
 "cells": [
  {
   "cell_type": "markdown",
   "id": "c17ea958",
   "metadata": {},
   "source": [
    "## 📌 Python Basics for DSA"
   ]
  },
  {
   "cell_type": "markdown",
   "id": "50df4837",
   "metadata": {},
   "source": [
    "### 1. Variables\n",
    "\n",
    "Variables are containers to store data.\n",
    "In Python, you don’t need to declare the type — it’s dynamically assigned.\n",
    "✅ In DSA, variables help track counts, indexes, flags, sums etc."
   ]
  },
  {
   "cell_type": "code",
   "execution_count": 1,
   "id": "11f9b268",
   "metadata": {},
   "outputs": [],
   "source": [
    "# integer\n",
    "x = 10  \n",
    "\n",
    "# float\n",
    "pi = 3.14  \n",
    "\n",
    "# string\n",
    "name = \"Rahul\"  \n",
    "\n",
    "# boolean\n",
    "is_active = True  \n",
    "\n",
    "# list (array-like)\n",
    "numbers = [1, 2, 3, 4]\n",
    "\n",
    "# dictionary (hashmap-like)\n",
    "student = {\"name\": \"Rahul\", \"age\": 25}\n"
   ]
  },
  {
   "cell_type": "markdown",
   "id": "137b2654",
   "metadata": {},
   "source": [
    "### 2. Loops\n",
    "\n",
    "Loops are used to iterate over sequences.\n",
    "* For loop\n",
    "* While loop\n",
    "* Break / Continue\n",
    "\n",
    "✅ Loops are everywhere in DSA → traversing arrays, searching, traversals."
   ]
  },
  {
   "cell_type": "code",
   "execution_count": 2,
   "id": "bd167b89",
   "metadata": {},
   "outputs": [
    {
     "name": "stdout",
     "output_type": "stream",
     "text": [
      "0\n",
      "1\n",
      "2\n",
      "3\n",
      "4\n"
     ]
    }
   ],
   "source": [
    "# For loop\n",
    "for i in range(5):  \n",
    "    print(i)   # prints 0 to 4\n"
   ]
  },
  {
   "cell_type": "code",
   "execution_count": 3,
   "id": "04398a05",
   "metadata": {},
   "outputs": [
    {
     "name": "stdout",
     "output_type": "stream",
     "text": [
      "5\n",
      "4\n",
      "3\n",
      "2\n",
      "1\n"
     ]
    }
   ],
   "source": [
    "# While loop\n",
    "n = 5\n",
    "while n > 0:\n",
    "    print(n)\n",
    "    n -= 1\n"
   ]
  },
  {
   "cell_type": "code",
   "execution_count": 8,
   "id": "1dc25dc0",
   "metadata": {},
   "outputs": [
    {
     "name": "stdout",
     "output_type": "stream",
     "text": [
      "1\n",
      "3\n",
      "4\n"
     ]
    }
   ],
   "source": [
    "# Break / Continue\n",
    "for i in range(1, 6):\n",
    "    if i == 2:\n",
    "        continue   # skip 3\n",
    "    if i == 5:\n",
    "        break      # stop loop at 5\n",
    "    print(i)\n"
   ]
  },
  {
   "cell_type": "markdown",
   "id": "5c1616cb",
   "metadata": {},
   "source": [
    "### 3. Functions\n",
    "\n",
    "* Functions are reusable blocks of code.\n",
    "\n",
    "✅ In DSA, functions help you organize logic (like binary_search, factorial, etc.)."
   ]
  },
  {
   "cell_type": "code",
   "execution_count": 9,
   "id": "8ae6f5fd",
   "metadata": {},
   "outputs": [
    {
     "name": "stdout",
     "output_type": "stream",
     "text": [
      "8\n"
     ]
    }
   ],
   "source": [
    "def add(a, b):\n",
    "    return a + b\n",
    "\n",
    "print(add(5, 3))   # 8\n"
   ]
  },
  {
   "cell_type": "code",
   "execution_count": 10,
   "id": "36373543",
   "metadata": {},
   "outputs": [
    {
     "name": "stdout",
     "output_type": "stream",
     "text": [
      "Hello, Rahul\n",
      "Hello, Guest\n"
     ]
    }
   ],
   "source": [
    "# Default arguments\n",
    "\n",
    "def greet(name=\"Guest\"):\n",
    "    print(f\"Hello, {name}\")\n",
    "\n",
    "greet(\"Rahul\")\n",
    "greet()\n"
   ]
  },
  {
   "cell_type": "markdown",
   "id": "1d37132f",
   "metadata": {},
   "source": [
    "### 4. OOP Refresher (Object-Oriented Programming)\n",
    "\n",
    "* OOP is used to design custom data structures.\n",
    "✅ In DSA, OOP is useful for Linked List nodes, Trees, Graphs where you build custom classes.\n",
    "\n",
    "Example — Simple Car class"
   ]
  },
  {
   "cell_type": "code",
   "execution_count": 11,
   "id": "2a5f2558",
   "metadata": {},
   "outputs": [
    {
     "name": "stdout",
     "output_type": "stream",
     "text": [
      "Tesla is driving at 120 km/h\n",
      "BMW is driving at 150 km/h\n"
     ]
    }
   ],
   "source": [
    "class Car:\n",
    "    def __init__(self, brand, speed):\n",
    "        self.brand = brand\n",
    "        self.speed = speed\n",
    "\n",
    "    def drive(self):\n",
    "        print(f\"{self.brand} is driving at {self.speed} km/h\")\n",
    "\n",
    "# create objects\n",
    "car1 = Car(\"Tesla\", 120)\n",
    "car2 = Car(\"BMW\", 150)\n",
    "\n",
    "car1.drive()\n",
    "car2.drive()\n"
   ]
  },
  {
   "cell_type": "code",
   "execution_count": 15,
   "id": "88047acf",
   "metadata": {},
   "outputs": [
    {
     "name": "stdout",
     "output_type": "stream",
     "text": [
      "15\n"
     ]
    }
   ],
   "source": [
    "# Q1 - 1. Write a function that takes a list and returns the sum of elements.\n",
    "def list_sum(numbers):\n",
    "    total = 0\n",
    "    for num in numbers:\n",
    "        total += num\n",
    "    return total\n",
    "\n",
    "# Test\n",
    "print(list_sum([1, 2, 3, 4, 5]))  # Output: 15\n"
   ]
  },
  {
   "cell_type": "code",
   "execution_count": 16,
   "id": "15a5af20",
   "metadata": {},
   "outputs": [
    {
     "name": "stdout",
     "output_type": "stream",
     "text": [
      "Odd\n",
      "Even\n"
     ]
    }
   ],
   "source": [
    "# Q2 - Write a program that checks if a number is even or odd.\n",
    "def even_or_odd(n):\n",
    "    if n % 2 == 0:\n",
    "        return \"Even\"\n",
    "    else:\n",
    "        return \"Odd\"\n",
    "\n",
    "# Test\n",
    "print(even_or_odd(7))  # Output: Odd\n",
    "print(even_or_odd(10)) # Output: Even\n"
   ]
  },
  {
   "cell_type": "code",
   "execution_count": 26,
   "id": "1b3f260c",
   "metadata": {},
   "outputs": [
    {
     "name": "stdout",
     "output_type": "stream",
     "text": [
      "120\n",
      "24\n"
     ]
    }
   ],
   "source": [
    "# Q3 - Write a function to find the factorial of a number.\n",
    "def factorial(n):\n",
    "    result = 1\n",
    "    for i in range(1, n+1):\n",
    "        result *= i\n",
    "    return result\n",
    "\n",
    "# Test\n",
    "print(factorial(5))  # Output: 120\n",
    "print(factorial(4))  # Output: 1\n"
   ]
  },
  {
   "cell_type": "code",
   "execution_count": 27,
   "id": "3a6f95de",
   "metadata": {},
   "outputs": [
    {
     "name": "stdout",
     "output_type": "stream",
     "text": [
      "Area: 50\n",
      "Perimeter: 30\n"
     ]
    }
   ],
   "source": [
    "# Q4 - Create a class Rectangle with methods to calculate area and perimeter.\n",
    "class Rectangle:\n",
    "    def __init__(self, length, width):\n",
    "        self.length = length\n",
    "        self.width = width\n",
    "\n",
    "    def area(self):\n",
    "        return self.length * self.width\n",
    "\n",
    "    def perimeter(self):\n",
    "        return 2 * (self.length + self.width)\n",
    "\n",
    "# Test\n",
    "rect = Rectangle(10, 5)\n",
    "print(\"Area:\", rect.area())          # 50\n",
    "print(\"Perimeter:\", rect.perimeter()) # 30\n"
   ]
  },
  {
   "cell_type": "code",
   "execution_count": 29,
   "id": "af8856e2",
   "metadata": {},
   "outputs": [
    {
     "name": "stdout",
     "output_type": "stream",
     "text": [
      "1 2 4 5 7 8 10 11 13 14 16 17 19 20 "
     ]
    }
   ],
   "source": [
    "# Q5 - Print all numbers from 1 to 20 but skip multiples of 3.\n",
    "for i in range(1, 21):\n",
    "    if i % 3 == 0:\n",
    "        continue  # skip multiples of 3\n",
    "    print(i, end=\" \")\n"
   ]
  }
 ],
 "metadata": {
  "kernelspec": {
   "display_name": "base",
   "language": "python",
   "name": "python3"
  },
  "language_info": {
   "codemirror_mode": {
    "name": "ipython",
    "version": 3
   },
   "file_extension": ".py",
   "mimetype": "text/x-python",
   "name": "python",
   "nbconvert_exporter": "python",
   "pygments_lexer": "ipython3",
   "version": "3.13.5"
  }
 },
 "nbformat": 4,
 "nbformat_minor": 5
}
