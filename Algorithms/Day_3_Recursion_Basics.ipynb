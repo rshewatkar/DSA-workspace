{
 "cells": [
  {
   "cell_type": "markdown",
   "id": "c82d9a8b",
   "metadata": {},
   "source": [
    "## 📚 Day 3: Recursion Basics\n",
    "\n",
    "### 1. What is Recursion?\n",
    "\n",
    "👉 Recursion is when a function calls itself to solve a smaller version of the same problem.\n",
    "It’s like saying: “To solve this big problem, I’ll first solve a smaller one, then build the answer step by step.”"
   ]
  },
  {
   "cell_type": "markdown",
   "id": "3d4ac104",
   "metadata": {},
   "source": [
    "### 2. How Does Recursion Work?\n",
    "\n",
    "Recursion has two parts:\n",
    "\n",
    "1. Base Case → the condition that stops recursion (otherwise it becomes infinite).\n",
    "\n",
    "2. Recursive Case → the function calls itself with a smaller input."
   ]
  },
  {
   "cell_type": "markdown",
   "id": "af715eca",
   "metadata": {},
   "source": [
    "### 💡 Analogy\n",
    "\n",
    "Imagine you want to climb a staircase of 10 steps:\n",
    "\n",
    "* If there are 0 steps left → stop (base case).\n",
    "\n",
    "* Otherwise, take 1 step and let recursion handle the remaining (recursive case)."
   ]
  },
  {
   "cell_type": "markdown",
   "id": "8931b77f",
   "metadata": {},
   "source": [
    "### 3. Call Stack in Recursion\n",
    "\n",
    "👉When a function calls itself, Python keeps track of function calls using a stack (Last In, First Out).\n",
    "Every recursive call is pushed onto the stack, and when it finishes, it is popped."
   ]
  },
  {
   "cell_type": "markdown",
   "id": "68cb2145",
   "metadata": {},
   "source": [
    "### 4. Beginner-Friendly Examples\n",
    "Example 1: Factorial using Recursion\n",
    "\n",
    "Logic:\n",
    "* Base case: factorial(0) = 1\n",
    "* Recursive case: factorial(n) = n × factorial(n-1)\n",
    "\n",
    "Mathematically:\n",
    "n! = n × (n-1)!\n",
    "with base case: 0! = \n",
    "\n",
    "ex. n = 3 \n",
    "\n",
    "Step-by-Step Execution:\n",
    "👉 Call factorial(3)\n",
    "Needs result of factorial(2) → pushes to stack\n",
    "\n",
    "👉 Call factorial(2)\n",
    "Needs result of factorial(1) → pushes to stack\n",
    "\n",
    "👉 Call factorial(1)\n",
    "Needs result of factorial(0) → pushes to stack\n",
    "\n",
    "👉 Call factorial(0)\n",
    "Base case reached → returns 1\n",
    "\n",
    "factorial(3)\n",
    " └─> factorial(2)\n",
    "       └─> factorial(1)\n",
    "             └─> factorial(0) → returns 1\n"
   ]
  },
  {
   "cell_type": "code",
   "execution_count": 10,
   "id": "346377a3",
   "metadata": {},
   "outputs": [
    {
     "name": "stdout",
     "output_type": "stream",
     "text": [
      "6\n",
      "24\n",
      "120\n",
      "5040\n"
     ]
    }
   ],
   "source": [
    "def factorial(n):\n",
    "    if n == 0:    # Base case\n",
    "        return 1\n",
    "    return n * factorial(n-1) # Recursive case\n",
    "\n",
    "print(factorial(3))\n",
    "print(factorial(4))\n",
    "print(factorial(5))\n",
    "print(factorial(7))"
   ]
  },
  {
   "cell_type": "markdown",
   "id": "7eb514d4",
   "metadata": {},
   "source": [
    "Example 2: Fibonacci Sequence\n",
    "\n",
    "* Base cases: fibonacci(0) = 0, fibonacci(1) = 1\n",
    "\n",
    "* Recursive case: fibonacci(n) = fibonacci(n-1) + fibonacci(n-2)"
   ]
  },
  {
   "cell_type": "code",
   "execution_count": 14,
   "id": "8d168e3a",
   "metadata": {},
   "outputs": [
    {
     "name": "stdout",
     "output_type": "stream",
     "text": [
      "2\n",
      "5\n"
     ]
    }
   ],
   "source": [
    "def fib(n):\n",
    "    if n <=1:\n",
    "        return n\n",
    "    return fib(n-1) + fib(n-2)\n",
    "\n",
    "print(fib(3))\n",
    "print(fib(5))\n",
    "                          "
   ]
  },
  {
   "cell_type": "markdown",
   "id": "487c3036",
   "metadata": {},
   "source": [
    "Example 3: Sum of First n Numbers\n",
    "\n",
    "* Base case: sum_n(0) = 0\n",
    "\n",
    "* Recursive case: sum_n(n) = n + sum_n(n-1)"
   ]
  },
  {
   "cell_type": "code",
   "execution_count": 32,
   "id": "4af722e2",
   "metadata": {},
   "outputs": [
    {
     "name": "stdout",
     "output_type": "stream",
     "text": [
      "0\n",
      "1\n",
      "3\n",
      "6\n",
      "10\n",
      "15\n"
     ]
    }
   ],
   "source": [
    "def sum(n):\n",
    "    if n == 0:\n",
    "        return 0\n",
    "    return n + sum(n-1)\n",
    "\n",
    "print(sum(0))\n",
    "print(sum(1))\n",
    "print(sum(2))\n",
    "print(sum(3)) # Output: 6 (3+2+1)\n",
    "print(sum(4)) # Output: 10 (4+3+2+1)\n",
    "print(sum(5)) # Output: 15 (5+4+3+2+1)\n"
   ]
  },
  {
   "cell_type": "markdown",
   "id": "9145ea31",
   "metadata": {},
   "source": [
    "Example 4: Print Numbers 1 to n\n",
    "\n",
    "* Base case: when n == 0 → stop\n",
    "\n",
    "* Recursive case: print_numbers(n-1) first, then print(n)"
   ]
  },
  {
   "cell_type": "code",
   "execution_count": 36,
   "id": "9f4aa51d",
   "metadata": {},
   "outputs": [
    {
     "name": "stdout",
     "output_type": "stream",
     "text": [
      "1\n",
      "2\n",
      "3\n",
      "4\n",
      "5\n"
     ]
    }
   ],
   "source": [
    "def print_num(n):\n",
    "    if n ==0:\n",
    "        return\n",
    "    print_num(n-1)\n",
    "    print(n)\n",
    "\n",
    "print_num(5)"
   ]
  },
  {
   "cell_type": "markdown",
   "id": "b68521ad",
   "metadata": {},
   "source": [
    "Example 5: Reverse a String\n",
    "* Base case: empty string → return \"\"\n",
    "\n",
    "* Recursive case: reverse(s[1:]) + s[0]"
   ]
  },
  {
   "cell_type": "code",
   "execution_count": 49,
   "id": "ee78124a",
   "metadata": {},
   "outputs": [
    {
     "data": {
      "text/plain": [
       "'mar'"
      ]
     },
     "execution_count": 49,
     "metadata": {},
     "output_type": "execute_result"
    }
   ],
   "source": [
    "def revers_string(s):\n",
    "    if len(s) == 0:\n",
    "        return s\n",
    "    return revers_string(s[1:]) +s[0]\n",
    "\n",
    "revers_string(\"ram\")"
   ]
  }
 ],
 "metadata": {
  "kernelspec": {
   "display_name": "base",
   "language": "python",
   "name": "python3"
  },
  "language_info": {
   "codemirror_mode": {
    "name": "ipython",
    "version": 3
   },
   "file_extension": ".py",
   "mimetype": "text/x-python",
   "name": "python",
   "nbconvert_exporter": "python",
   "pygments_lexer": "ipython3",
   "version": "3.13.5"
  }
 },
 "nbformat": 4,
 "nbformat_minor": 5
}
