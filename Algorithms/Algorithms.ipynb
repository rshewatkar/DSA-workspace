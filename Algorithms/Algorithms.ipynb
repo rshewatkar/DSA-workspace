{
 "cells": [
  {
   "cell_type": "markdown",
   "id": "c783e7b3",
   "metadata": {},
   "source": []
  },
  {
   "cell_type": "markdown",
   "id": "d712ceb6",
   "metadata": {},
   "source": [
    "🎯 What are we trying to learn?\n",
    "We're trying to understand:\n",
    "\n",
    "1. How fast an algorithm is 🏃‍♂️\n",
    "\n",
    "2. How to measure its speed\n",
    "\n",
    "3. How to compare different algorithms without even running them"
   ]
  },
  {
   "cell_type": "markdown",
   "id": "ac4aa1bc",
   "metadata": {},
   "source": [
    "🧠 What is an Algorithm?\n",
    "An algorithm is just a step-by-step recipe to solve a problem.\n",
    "\n",
    "For example:"
   ]
  },
  {
   "cell_type": "code",
   "execution_count": 9,
   "id": "9c7f7b2a",
   "metadata": {},
   "outputs": [
    {
     "data": {
      "text/plain": [
       "15"
      ]
     },
     "execution_count": 9,
     "metadata": {},
     "output_type": "execute_result"
    }
   ],
   "source": [
    "def add_numbers(a, b):\n",
    "    return a + b\n",
    "\n",
    "# This is an algorithm to add two numbers.\n",
    "\n",
    "add_numbers(5, 10)"
   ]
  },
  {
   "cell_type": "markdown",
   "id": "e6f22a6b",
   "metadata": {},
   "source": [
    "🔍 How do we check how fast it runs? (Experimentally)\n",
    "We can measure the time it takes using Python’s time module:"
   ]
  },
  {
   "cell_type": "code",
   "execution_count": 10,
   "id": "450ecac9",
   "metadata": {},
   "outputs": [
    {
     "name": "stdout",
     "output_type": "stream",
     "text": [
      "Time taken: 0.1444549560546875 seconds\n"
     ]
    }
   ],
   "source": [
    "from time import time\n",
    "\n",
    "start_time = time()  # Start the stopwatch\n",
    "\n",
    "# Algorithm: Let's say we add numbers in a loop\n",
    "total = 0\n",
    "for i in range(1000000):\n",
    "    total += i\n",
    "\n",
    "end_time = time()  # Stop the stopwatch\n",
    "\n",
    "print(\"Time taken:\", end_time - start_time, \"seconds\")\n"
   ]
  },
  {
   "cell_type": "markdown",
   "id": "90e29be1",
   "metadata": {},
   "source": [
    "* This tells us how long our code took to run. (Time taken: 0.1444549560546875 seconds)"
   ]
  },
  {
   "cell_type": "markdown",
   "id": "2705eab9",
   "metadata": {},
   "source": [
    "🕒 But there’s a problem...\n",
    "\n",
    "⛔ What if someone is watching YouTube on the same computer while the code is running?\n",
    "Your computer slows down, and it affects the time.\n",
    "\n",
    "So, the result may not be accurate."
   ]
  },
  {
   "cell_type": "markdown",
   "id": "1224aec1",
   "metadata": {},
   "source": [
    "🧪 What’s a better way?\n",
    "We can use a tool called timeit in Python that:\n",
    "\n",
    "* Runs the code many times\n",
    "\n",
    "* Takes an average\n",
    "\n",
    "* Removes background \"noise\""
   ]
  },
  {
   "cell_type": "code",
   "execution_count": 13,
   "id": "962d7d5f",
   "metadata": {},
   "outputs": [
    {
     "name": "stdout",
     "output_type": "stream",
     "text": [
      "Average time: 0.05767510000150651\n"
     ]
    }
   ],
   "source": [
    "import timeit\n",
    "\n",
    "def sum_numbers():\n",
    "    total = 0\n",
    "    for i in range(1000000):\n",
    "        total += i\n",
    "\n",
    "# Measure the time for 5 runs\n",
    "time_taken = timeit.timeit(sum_numbers, number=5)\n",
    "print(\"Average time:\", time_taken / 5)\n"
   ]
  },
  {
   "cell_type": "markdown",
   "id": "e5a00feb",
   "metadata": {},
   "source": [
    "⚠️ Problems with Experimental Testing:\n",
    "Even with tools like timeit, we face 3 big problems:\n",
    "\n",
    "📦 Different Computers = Different Speeds\n",
    "\n",
    "📊 You only test with a few inputs\n",
    "\n",
    "🧱 You need to write the full code to test it"
   ]
  },
  {
   "cell_type": "markdown",
   "id": "b6058028",
   "metadata": {},
   "source": [
    "🧮 So what’s the smarter way? → Theoretical Analysis\n",
    "Instead of running code, we just count how many steps the algorithm takes.\n",
    "\n",
    "Think like this:\n",
    "\n",
    "You don’t need a stopwatch 🕒\n",
    "\n",
    "You just count how many things it does, not how long it takes"
   ]
  },
  {
   "cell_type": "markdown",
   "id": "23197de2",
   "metadata": {},
   "source": [
    "🎲 Example: Counting Steps\n",
    "\n",
    "Let’s take this code:"
   ]
  },
  {
   "cell_type": "code",
   "execution_count": 14,
   "id": "e6a6cbd1",
   "metadata": {},
   "outputs": [],
   "source": [
    "def sum_numbers(n):\n",
    "    total = 0          # 1 step\n",
    "    for i in range(n): # n steps\n",
    "        total += i     # n steps\n",
    "    return total       # 1 step\n"
   ]
  },
  {
   "cell_type": "markdown",
   "id": "5baf6178",
   "metadata": {},
   "source": [
    "🔢 Total steps = 1 (start) + n (loop) + n (addition) + 1 (return)\n",
    "✅ So, total = 2n + 2\n",
    "\n",
    "We care about how it grows when n is big. We call this:"
   ]
  },
  {
   "cell_type": "markdown",
   "id": "cd6cc435",
   "metadata": {},
   "source": [
    "f(n) = 2n + 2  →  O(n)\n",
    "\n",
    "This means the algorithm grows linearly as the input grows."
   ]
  },
  {
   "cell_type": "markdown",
   "id": "d31495d1",
   "metadata": {},
   "source": [
    "🏆 Why is this smart?\n",
    "Because now we can:\n",
    "\n",
    "✅ Compare two algorithms without writing or running them\n",
    "\n",
    "✅ Make fair comparisons on any computer\n",
    "\n",
    "✅ Handle all kinds of inputs, even very large ones\n",
    "\n"
   ]
  },
  {
   "cell_type": "markdown",
   "id": "45b03043",
   "metadata": {},
   "source": [
    "📊 Let’s Compare Two Algorithms:\n",
    "🐢 Slow one (nested loop = O(n²)):"
   ]
  },
  {
   "cell_type": "code",
   "execution_count": 18,
   "id": "8de9746e",
   "metadata": {},
   "outputs": [],
   "source": [
    "def slow_algo(n):\n",
    "    for i in range(n):        # n\n",
    "        for j in range(n):    # n\n",
    "            pass              # n * n = n² steps\n"
   ]
  },
  {
   "cell_type": "markdown",
   "id": "f412948c",
   "metadata": {},
   "source": [
    "🐇 Fast one (single loop = O(n)):\n"
   ]
  },
  {
   "cell_type": "code",
   "execution_count": 20,
   "id": "9c634b13",
   "metadata": {},
   "outputs": [],
   "source": [
    "def fast_algo(n):\n",
    "    for i in range(n):        # n steps\n",
    "        pass\n"
   ]
  },
  {
   "cell_type": "markdown",
   "id": "77114193",
   "metadata": {},
   "source": [
    "🧠 Even if they do the same job, we know fast_algo is better when n is big — just by looking at the number of steps."
   ]
  },
  {
   "cell_type": "markdown",
   "id": "0b874f0a",
   "metadata": {},
   "source": [
    "| Concept                   | In Simple Words                                                   |\n",
    "| ------------------------- | ----------------------------------------------------------------- |\n",
    "| **Algorithm**             | Like a recipe to solve a problem                                  |\n",
    "| **Experimental Analysis** | Run it and use a stopwatch (`time`, `timeit`)                     |\n",
    "| **Problem?**              | It depends on the computer and other apps running                 |\n",
    "| **Better Way?**           | Count how many steps it takes (like counting moves in a game)     |\n",
    "| **Why?**                  | You can compare **any algorithm** fairly, even without running it |\n"
   ]
  },
  {
   "cell_type": "markdown",
   "id": "cc94800f",
   "metadata": {},
   "source": [
    "🚀 Want to Try It Yourself?\n",
    "Change the size and run this:"
   ]
  },
  {
   "cell_type": "code",
   "execution_count": 27,
   "id": "3b06eaab",
   "metadata": {},
   "outputs": [
    {
     "name": "stdout",
     "output_type": "stream",
     "text": [
      "Time taken: 23.88708782196045\n"
     ]
    }
   ],
   "source": [
    "from time import time\n",
    "\n",
    "def count_up_to(n):\n",
    "    for i in range(n):\n",
    "        pass\n",
    "\n",
    "# 1000000000 iterations\n",
    "start = time()\n",
    "count_up_to(1000000000)\n",
    "end = time()\n",
    "print(\"Time taken:\", end - start)"
   ]
  },
  {
   "cell_type": "code",
   "execution_count": 23,
   "id": "de56e542",
   "metadata": {},
   "outputs": [
    {
     "name": "stdout",
     "output_type": "stream",
     "text": [
      "Time taken: 0.026905536651611328\n"
     ]
    }
   ],
   "source": [
    "# 100000 iterations\n",
    "start = time()\n",
    "count_up_to(1000000)\n",
    "end = time()\n",
    "print(\"Time taken:\", end - start)"
   ]
  },
  {
   "cell_type": "code",
   "execution_count": 24,
   "id": "c21515da",
   "metadata": {},
   "outputs": [
    {
     "name": "stdout",
     "output_type": "stream",
     "text": [
      "Time taken: 0.00018215179443359375\n"
     ]
    }
   ],
   "source": [
    "# 1000 iterations\n",
    "start = time()\n",
    "count_up_to(1000)\n",
    "end = time()\n",
    "print(\"Time taken:\", end - start)"
   ]
  },
  {
   "cell_type": "code",
   "execution_count": 25,
   "id": "df4c713a",
   "metadata": {},
   "outputs": [
    {
     "name": "stdout",
     "output_type": "stream",
     "text": [
      "Time taken: 0.00013184547424316406\n"
     ]
    }
   ],
   "source": [
    "# 10 iterations\n",
    "start = time()\n",
    "count_up_to(10)\n",
    "end = time()\n",
    "print(\"Time taken:\", end - start)"
   ]
  },
  {
   "cell_type": "code",
   "execution_count": 29,
   "id": "6a1950f1",
   "metadata": {},
   "outputs": [
    {
     "data": {
      "image/png": "[encoded data removed]",
      "text/plain": [
       "<Figure size 640x480 with 1 Axes>"
      ]
     },
     "metadata": {},
     "output_type": "display_data"
    }
   ],
   "source": [
    "import matplotlib.pyplot as plt\n",
    "from time import time\n",
    "\n",
    "sizes = []\n",
    "times = []\n",
    "\n",
    "for n in range(1000, 10001, 1000):\n",
    "    start = time()\n",
    "    total = 0\n",
    "    for i in range(1, n+1):\n",
    "        total += i\n",
    "    end = time()\n",
    "\n",
    "    sizes.append(n)\n",
    "    times.append(end - start)\n",
    "\n",
    "# Use scatter plot instead of line plot\n",
    "plt.scatter(sizes, times)\n",
    "plt.xlabel(\"Input size (n)\")\n",
    "plt.ylabel(\"Time taken (seconds)\")\n",
    "plt.title(\"Performance of sum_n algorithm (Scatter Plot)\")\n",
    "plt.grid(True)\n",
    "plt.show()\n"
   ]
  }
 ],
 "metadata": {
  "kernelspec": {
   "display_name": "base",
   "language": "python",
   "name": "python3"
  },
  "language_info": {
   "codemirror_mode": {
    "name": "ipython",
    "version": 3
   },
   "file_extension": ".py",
   "mimetype": "text/x-python",
   "name": "python",
   "nbconvert_exporter": "python",
   "pygments_lexer": "ipython3",
   "version": "3.13.5"
  }
 },
 "nbformat": 4,
 "nbformat_minor": 5
}
